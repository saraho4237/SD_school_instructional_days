{
 "cells": [
  {
   "cell_type": "code",
   "execution_count": 5,
   "metadata": {},
   "outputs": [
    {
     "name": "stdout",
     "output_type": "stream",
     "text": [
      "README.md          district_data.csv  time.csv\r\n",
      "Untitled.ipynb     \u001b[34mimages\u001b[m\u001b[m/\r\n"
     ]
    }
   ],
   "source": [
    "import pandas as pd\n",
    "pd.set_option('display.max_columns', None)"
   ]
  },
  {
   "cell_type": "code",
   "execution_count": 29,
   "metadata": {},
   "outputs": [
    {
     "data": {
      "text/html": [
       "<div>\n",
       "<style scoped>\n",
       "    .dataframe tbody tr th:only-of-type {\n",
       "        vertical-align: middle;\n",
       "    }\n",
       "\n",
       "    .dataframe tbody tr th {\n",
       "        vertical-align: top;\n",
       "    }\n",
       "\n",
       "    .dataframe thead th {\n",
       "        text-align: right;\n",
       "    }\n",
       "</style>\n",
       "<table border=\"1\" class=\"dataframe\">\n",
       "  <thead>\n",
       "    <tr style=\"text-align: right;\">\n",
       "      <th></th>\n",
       "      <th>District Number</th>\n",
       "      <th>District Name</th>\n",
       "      <th>School Name</th>\n",
       "      <th>School Number</th>\n",
       "      <th>Calendar Name</th>\n",
       "      <th>Instructional Days</th>\n",
       "      <th>Instructional Minutes</th>\n",
       "      <th>Instructional Hours</th>\n",
       "      <th>Operating 4 Day</th>\n",
       "    </tr>\n",
       "  </thead>\n",
       "  <tbody>\n",
       "    <tr>\n",
       "      <th>0</th>\n",
       "      <td>6001</td>\n",
       "      <td>Aberdeen 06-1</td>\n",
       "      <td>Aberdeen Alternative Learning Center</td>\n",
       "      <td>12</td>\n",
       "      <td>17-18 Aberdeen Alternative Lea</td>\n",
       "      <td>174</td>\n",
       "      <td>64722</td>\n",
       "      <td>1078.70</td>\n",
       "      <td>No</td>\n",
       "    </tr>\n",
       "    <tr>\n",
       "      <th>1</th>\n",
       "      <td>6001</td>\n",
       "      <td>Aberdeen 06-1</td>\n",
       "      <td>C.C. Lee Elementary</td>\n",
       "      <td>5</td>\n",
       "      <td>17-18 C.C. Lee Elementary</td>\n",
       "      <td>173</td>\n",
       "      <td>59985</td>\n",
       "      <td>999.75</td>\n",
       "      <td>No</td>\n",
       "    </tr>\n",
       "    <tr>\n",
       "      <th>2</th>\n",
       "      <td>6001</td>\n",
       "      <td>Aberdeen 06-1</td>\n",
       "      <td>Central High School</td>\n",
       "      <td>1</td>\n",
       "      <td>17-18 Central High School</td>\n",
       "      <td>173</td>\n",
       "      <td>69390</td>\n",
       "      <td>1156.50</td>\n",
       "      <td>No</td>\n",
       "    </tr>\n",
       "    <tr>\n",
       "      <th>3</th>\n",
       "      <td>6001</td>\n",
       "      <td>Aberdeen 06-1</td>\n",
       "      <td>Holgate Middle School</td>\n",
       "      <td>2</td>\n",
       "      <td>17-18 Holgate Middle School</td>\n",
       "      <td>174</td>\n",
       "      <td>62766</td>\n",
       "      <td>1046.10</td>\n",
       "      <td>No</td>\n",
       "    </tr>\n",
       "    <tr>\n",
       "      <th>4</th>\n",
       "      <td>6001</td>\n",
       "      <td>Aberdeen 06-1</td>\n",
       "      <td>Lincoln Elementary</td>\n",
       "      <td>8</td>\n",
       "      <td>17-18 Lincoln Elementary</td>\n",
       "      <td>174</td>\n",
       "      <td>60315</td>\n",
       "      <td>1005.25</td>\n",
       "      <td>No</td>\n",
       "    </tr>\n",
       "  </tbody>\n",
       "</table>\n",
       "</div>"
      ],
      "text/plain": [
       "   District Number  District Name                           School Name  \\\n",
       "0             6001  Aberdeen 06-1  Aberdeen Alternative Learning Center   \n",
       "1             6001  Aberdeen 06-1                   C.C. Lee Elementary   \n",
       "2             6001  Aberdeen 06-1                   Central High School   \n",
       "3             6001  Aberdeen 06-1                 Holgate Middle School   \n",
       "4             6001  Aberdeen 06-1                    Lincoln Elementary   \n",
       "\n",
       "   School Number                   Calendar Name  Instructional Days  \\\n",
       "0             12  17-18 Aberdeen Alternative Lea                 174   \n",
       "1              5       17-18 C.C. Lee Elementary                 173   \n",
       "2              1       17-18 Central High School                 173   \n",
       "3              2     17-18 Holgate Middle School                 174   \n",
       "4              8        17-18 Lincoln Elementary                 174   \n",
       "\n",
       "   Instructional Minutes  Instructional Hours Operating 4 Day  \n",
       "0                  64722              1078.70              No  \n",
       "1                  59985               999.75              No  \n",
       "2                  69390              1156.50              No  \n",
       "3                  62766              1046.10              No  \n",
       "4                  60315              1005.25              No  "
      ]
     },
     "execution_count": 29,
     "metadata": {},
     "output_type": "execute_result"
    }
   ],
   "source": [
    "dist_df=pd.read_csv(\"district_data.csv\")\n",
    "time_df=pd.read_csv(\"time.csv\")\n",
    "time_df.head()"
   ]
  },
  {
   "cell_type": "code",
   "execution_count": 30,
   "metadata": {},
   "outputs": [],
   "source": [
    "columns_to_keep_district=[\"District No.\", \n",
    "                        \"District Name\", \n",
    "                        \"Location Address\", \n",
    "                        \"Land Area in Square Miles\", \n",
    "                        \"Home County\", \n",
    "                        'K-12 Enrollment Fall 2017', \n",
    "                        \"Dropout Rate (%)\", \n",
    "                        \"Attendance Rate\",\n",
    "                        \"Free & Reduced Lunch Eligibility Percentage\", \n",
    "                        \"Percent of Special Education Students\", \n",
    "                        \"Average Teacher Salary\", \n",
    "                        \"Teacher - Avg Yrs of Experience\", \n",
    "                        \"Teacher - % with Advanced Degree\", \n",
    "                        \"ACT Composite Score\", \n",
    "                        \"No. of Students Taking the ACT\" ]\n",
    "\n",
    "columns_to_keep_time=[\"District Number\",\n",
    "                      \"School Name\",\n",
    "                      \"Instructional Days\",\n",
    "                      \"Instructional Minutes\",\n",
    "                      \"Instructional Hours\",\n",
    "                      \"Operating 4 Day\"]\n",
    "\n",
    "dist_data_keeping_columns=dist_df.loc[:,columns_to_keep_district]\n",
    "time_data_keeping_columns=time_df.loc[:,columns_to_keep_time]"
   ]
  },
  {
   "cell_type": "code",
   "execution_count": 33,
   "metadata": {},
   "outputs": [
    {
     "name": "stdout",
     "output_type": "stream",
     "text": [
      "149 149\n"
     ]
    }
   ],
   "source": [
    "print(len(dist_df),len(dist_data_keeping_columns))"
   ]
  },
  {
   "cell_type": "code",
   "execution_count": null,
   "metadata": {},
   "outputs": [],
   "source": [
    "time_data_keeping_columns[\"\"]"
   ]
  }
 ],
 "metadata": {
  "kernelspec": {
   "display_name": "Python 3",
   "language": "python",
   "name": "python3"
  },
  "language_info": {
   "codemirror_mode": {
    "name": "ipython",
    "version": 3
   },
   "file_extension": ".py",
   "mimetype": "text/x-python",
   "name": "python",
   "nbconvert_exporter": "python",
   "pygments_lexer": "ipython3",
   "version": "3.7.1"
  }
 },
 "nbformat": 4,
 "nbformat_minor": 2
}
